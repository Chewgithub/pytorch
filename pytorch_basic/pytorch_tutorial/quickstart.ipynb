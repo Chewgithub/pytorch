{
 "cells": [
  {
   "cell_type": "markdown",
   "id": "6a0b628c",
   "metadata": {},
   "source": [
    "# Importing dependencies"
   ]
  },
  {
   "cell_type": "code",
   "execution_count": 1,
   "id": "9b119f2c",
   "metadata": {},
   "outputs": [],
   "source": [
    "import torch\n",
    "from torch import nn\n",
    "from torch.utils.data import DataLoader\n",
    "from torchvision import datasets\n",
    "from torchvision.transforms import ToTensor"
   ]
  },
  {
   "cell_type": "code",
   "execution_count": 10,
   "id": "81b0cd81",
   "metadata": {},
   "outputs": [],
   "source": [
    "import matplotlib.pyplot as plt"
   ]
  },
  {
   "cell_type": "markdown",
   "id": "09e75740",
   "metadata": {},
   "source": [
    "# Loading dataset"
   ]
  },
  {
   "cell_type": "code",
   "execution_count": 2,
   "id": "a89f74bb",
   "metadata": {},
   "outputs": [],
   "source": [
    "# Download training data from open datasets.\n",
    "training_data = datasets.FashionMNIST(\n",
    "    root=\"data\",\n",
    "    train=True,\n",
    "    download=True,\n",
    "    transform=ToTensor(),\n",
    ")\n",
    "\n",
    "# Download test data from open datasets.\n",
    "test_data = datasets.FashionMNIST(\n",
    "    root=\"data\",\n",
    "    train=False,\n",
    "    download=True,\n",
    "    transform=ToTensor(),\n",
    ")"
   ]
  },
  {
   "cell_type": "code",
   "execution_count": 3,
   "id": "ea04f9f0",
   "metadata": {},
   "outputs": [
    {
     "name": "stdout",
     "output_type": "stream",
     "text": [
      "Shape of X [N, C, H, W]: torch.Size([64, 1, 28, 28])\n",
      "Shape of y: torch.Size([64]) torch.int64\n"
     ]
    }
   ],
   "source": [
    "batch_size = 64\n",
    "\n",
    "# Create data loaders.\n",
    "train_dataloader = DataLoader(training_data, batch_size=batch_size)\n",
    "test_dataloader = DataLoader(test_data, batch_size=batch_size)\n",
    "\n",
    "for X, y in test_dataloader:\n",
    "    print(f\"Shape of X [N, C, H, W]: {X.shape}\")\n",
    "    print(f\"Shape of y: {y.shape} {y.dtype}\")\n",
    "    break"
   ]
  },
  {
   "cell_type": "code",
   "execution_count": 15,
   "id": "12139831",
   "metadata": {
    "scrolled": true
   },
   "outputs": [
    {
     "data": {
      "text/plain": [
       "torch.Size([28, 28])"
      ]
     },
     "execution_count": 15,
     "metadata": {},
     "output_type": "execute_result"
    }
   ],
   "source": [
    "X[0][0].shape"
   ]
  },
  {
   "cell_type": "code",
   "execution_count": 19,
   "id": "2c632cb4",
   "metadata": {},
   "outputs": [
    {
     "data": {
      "text/plain": [
       "<matplotlib.image.AxesImage at 0x7fa8fd0047c0>"
      ]
     },
     "execution_count": 19,
     "metadata": {},
     "output_type": "execute_result"
    },
    {
     "data": {
      "image/png": "[encoded data removed]",
      "text/plain": [
       "<Figure size 640x480 with 1 Axes>"
      ]
     },
     "metadata": {},
     "output_type": "display_data"
    }
   ],
   "source": [
    "plt.imshow(X[3][0], cmap='gray')"
   ]
  },
  {
   "cell_type": "markdown",
   "id": "ee99a23c",
   "metadata": {},
   "source": [
    "# Defining Model"
   ]
  },
  {
   "cell_type": "code",
   "execution_count": 5,
   "id": "9419421d",
   "metadata": {},
   "outputs": [
    {
     "name": "stdout",
     "output_type": "stream",
     "text": [
      "Using cpu device\n",
      "NeuralNetwork(\n",
      "  (flatten): Flatten(start_dim=1, end_dim=-1)\n",
      "  (linear_relu_stack): Sequential(\n",
      "    (0): Linear(in_features=784, out_features=512, bias=True)\n",
      "    (1): ReLU()\n",
      "    (2): Linear(in_features=512, out_features=512, bias=True)\n",
      "    (3): ReLU()\n",
      "    (4): Linear(in_features=512, out_features=10, bias=True)\n",
      "  )\n",
      ")\n"
     ]
    }
   ],
   "source": [
    "# Get cpu or gpu device for training.\n",
    "device = \"cuda\" if torch.cuda.is_available() else \"cpu\"\n",
    "print(f\"Using {device} device\")\n",
    "\n",
    "# Define model\n",
    "class NeuralNetwork(nn.Module):\n",
    "    def __init__(self):\n",
    "        super(NeuralNetwork, self).__init__()\n",
    "        self.flatten = nn.Flatten()\n",
    "        self.linear_relu_stack = nn.Sequential(\n",
    "            nn.Linear(28*28, 512),\n",
    "            nn.ReLU(),\n",
    "            nn.Linear(512, 512),\n",
    "            nn.ReLU(),\n",
    "            nn.Linear(512, 10)\n",
    "        )\n",
    "\n",
    "    def forward(self, x):\n",
    "        x = self.flatten(x)\n",
    "        logits = self.linear_relu_stack(x)\n",
    "        return logits\n",
    "\n",
    "model = NeuralNetwork().to(device)\n",
    "print(model)"
   ]
  },
  {
   "cell_type": "markdown",
   "id": "8326e71d",
   "metadata": {},
   "source": [
    "## Model parameter"
   ]
  },
  {
   "cell_type": "code",
   "execution_count": 6,
   "id": "c3ef2edb",
   "metadata": {},
   "outputs": [],
   "source": [
    "loss_fn = nn.CrossEntropyLoss()\n",
    "optimizer = torch.optim.SGD(model.parameters(), lr=1e-3)"
   ]
  },
  {
   "cell_type": "code",
   "execution_count": 7,
   "id": "84b45e37",
   "metadata": {},
   "outputs": [],
   "source": [
    "def train(dataloader, model, loss_fn, optimizer):\n",
    "    size = len(dataloader.dataset)\n",
    "    model.train()\n",
    "    for batch, (X, y) in enumerate(dataloader):\n",
    "        X, y = X.to(device), y.to(device)\n",
    "\n",
    "        # Compute prediction error\n",
    "        pred = model(X)\n",
    "        loss = loss_fn(pred, y)\n",
    "\n",
    "        # Backpropagation\n",
    "        optimizer.zero_grad()\n",
    "        loss.backward()\n",
    "        optimizer.step()\n",
    "\n",
    "        if batch % 100 == 0:\n",
    "            loss, current = loss.item(), batch * len(X)\n",
    "            print(f\"loss: {loss:>7f}  [{current:>5d}/{size:>5d}]\")"
   ]
  },
  {
   "cell_type": "code",
   "execution_count": 8,
   "id": "97dc42a3",
   "metadata": {},
   "outputs": [],
   "source": [
    "def test(dataloader, model, loss_fn):\n",
    "    size = len(dataloader.dataset)\n",
    "    num_batches = len(dataloader)\n",
    "    model.eval()\n",
    "    test_loss, correct = 0, 0\n",
    "    with torch.no_grad():\n",
    "        for X, y in dataloader:\n",
    "            X, y = X.to(device), y.to(device)\n",
    "            pred = model(X)\n",
    "            test_loss += loss_fn(pred, y).item()\n",
    "            correct += (pred.argmax(1) == y).type(torch.float).sum().item()\n",
    "    test_loss /= num_batches\n",
    "    correct /= size\n",
    "    print(f\"Test Error: \\n Accuracy: {(100*correct):>0.1f}%, Avg loss: {test_loss:>8f} \\n\")"
   ]
  },
  {
   "cell_type": "code",
   "execution_count": 13,
   "id": "37a7163c",
   "metadata": {},
   "outputs": [
    {
     "name": "stdout",
     "output_type": "stream",
     "text": [
      "Epoch 1\n",
      "-------------------------------\n",
      "loss: 1.155954  [    0/60000]\n",
      "loss: 1.175841  [ 6400/60000]\n",
      "loss: 1.007338  [12800/60000]\n",
      "loss: 1.150905  [19200/60000]\n",
      "loss: 1.034810  [25600/60000]\n",
      "loss: 1.073000  [32000/60000]\n",
      "loss: 1.127521  [38400/60000]\n",
      "loss: 1.079964  [44800/60000]\n",
      "loss: 1.113394  [51200/60000]\n",
      "loss: 1.058980  [57600/60000]\n",
      "Test Error: \n",
      " Accuracy: 64.6%, Avg loss: 1.086435 \n",
      "\n",
      "Epoch 2\n",
      "-------------------------------\n",
      "loss: 1.155954  [    0/60000]\n",
      "loss: 1.175841  [ 6400/60000]\n",
      "loss: 1.007338  [12800/60000]\n",
      "loss: 1.150905  [19200/60000]\n",
      "loss: 1.034810  [25600/60000]\n",
      "loss: 1.073000  [32000/60000]\n",
      "loss: 1.127521  [38400/60000]\n",
      "loss: 1.079964  [44800/60000]\n",
      "loss: 1.113394  [51200/60000]\n",
      "loss: 1.058980  [57600/60000]\n",
      "Test Error: \n",
      " Accuracy: 64.6%, Avg loss: 1.086435 \n",
      "\n",
      "Epoch 3\n",
      "-------------------------------\n",
      "loss: 1.155954  [    0/60000]\n",
      "loss: 1.175841  [ 6400/60000]\n",
      "loss: 1.007338  [12800/60000]\n",
      "loss: 1.150905  [19200/60000]\n",
      "loss: 1.034810  [25600/60000]\n",
      "loss: 1.073000  [32000/60000]\n",
      "loss: 1.127521  [38400/60000]\n",
      "loss: 1.079964  [44800/60000]\n",
      "loss: 1.113394  [51200/60000]\n",
      "loss: 1.058980  [57600/60000]\n",
      "Test Error: \n",
      " Accuracy: 64.6%, Avg loss: 1.086435 \n",
      "\n",
      "Epoch 4\n",
      "-------------------------------\n",
      "loss: 1.155954  [    0/60000]\n",
      "loss: 1.175841  [ 6400/60000]\n",
      "loss: 1.007338  [12800/60000]\n",
      "loss: 1.150905  [19200/60000]\n",
      "loss: 1.034810  [25600/60000]\n",
      "loss: 1.073000  [32000/60000]\n",
      "loss: 1.127521  [38400/60000]\n",
      "loss: 1.079964  [44800/60000]\n",
      "loss: 1.113394  [51200/60000]\n",
      "loss: 1.058980  [57600/60000]\n",
      "Test Error: \n",
      " Accuracy: 64.6%, Avg loss: 1.086435 \n",
      "\n",
      "Epoch 5\n",
      "-------------------------------\n",
      "loss: 1.155954  [    0/60000]\n",
      "loss: 1.175841  [ 6400/60000]\n",
      "loss: 1.007338  [12800/60000]\n",
      "loss: 1.150905  [19200/60000]\n",
      "loss: 1.034810  [25600/60000]\n",
      "loss: 1.073000  [32000/60000]\n",
      "loss: 1.127521  [38400/60000]\n",
      "loss: 1.079964  [44800/60000]\n",
      "loss: 1.113394  [51200/60000]\n",
      "loss: 1.058980  [57600/60000]\n",
      "Test Error: \n",
      " Accuracy: 64.6%, Avg loss: 1.086435 \n",
      "\n",
      "Epoch 6\n",
      "-------------------------------\n",
      "loss: 1.155954  [    0/60000]\n",
      "loss: 1.175841  [ 6400/60000]\n",
      "loss: 1.007338  [12800/60000]\n",
      "loss: 1.150905  [19200/60000]\n",
      "loss: 1.034810  [25600/60000]\n",
      "loss: 1.073000  [32000/60000]\n",
      "loss: 1.127521  [38400/60000]\n",
      "loss: 1.079964  [44800/60000]\n",
      "loss: 1.113394  [51200/60000]\n",
      "loss: 1.058980  [57600/60000]\n",
      "Test Error: \n",
      " Accuracy: 64.6%, Avg loss: 1.086435 \n",
      "\n",
      "Epoch 7\n",
      "-------------------------------\n",
      "loss: 1.155954  [    0/60000]\n",
      "loss: 1.175841  [ 6400/60000]\n",
      "loss: 1.007338  [12800/60000]\n",
      "loss: 1.150905  [19200/60000]\n",
      "loss: 1.034810  [25600/60000]\n",
      "loss: 1.073000  [32000/60000]\n",
      "loss: 1.127521  [38400/60000]\n",
      "loss: 1.079964  [44800/60000]\n",
      "loss: 1.113394  [51200/60000]\n",
      "loss: 1.058980  [57600/60000]\n",
      "Test Error: \n",
      " Accuracy: 64.6%, Avg loss: 1.086435 \n",
      "\n",
      "Epoch 8\n",
      "-------------------------------\n",
      "loss: 1.155954  [    0/60000]\n",
      "loss: 1.175841  [ 6400/60000]\n",
      "loss: 1.007338  [12800/60000]\n",
      "loss: 1.150905  [19200/60000]\n",
      "loss: 1.034810  [25600/60000]\n",
      "loss: 1.073000  [32000/60000]\n",
      "loss: 1.127521  [38400/60000]\n",
      "loss: 1.079964  [44800/60000]\n",
      "loss: 1.113394  [51200/60000]\n",
      "loss: 1.058980  [57600/60000]\n",
      "Test Error: \n",
      " Accuracy: 64.6%, Avg loss: 1.086435 \n",
      "\n",
      "Epoch 9\n",
      "-------------------------------\n",
      "loss: 1.155954  [    0/60000]\n",
      "loss: 1.175841  [ 6400/60000]\n",
      "loss: 1.007338  [12800/60000]\n",
      "loss: 1.150905  [19200/60000]\n",
      "loss: 1.034810  [25600/60000]\n",
      "loss: 1.073000  [32000/60000]\n",
      "loss: 1.127521  [38400/60000]\n",
      "loss: 1.079964  [44800/60000]\n",
      "loss: 1.113394  [51200/60000]\n",
      "loss: 1.058980  [57600/60000]\n",
      "Test Error: \n",
      " Accuracy: 64.6%, Avg loss: 1.086435 \n",
      "\n",
      "Epoch 10\n",
      "-------------------------------\n",
      "loss: 1.155954  [    0/60000]\n",
      "loss: 1.175841  [ 6400/60000]\n",
      "loss: 1.007338  [12800/60000]\n",
      "loss: 1.150905  [19200/60000]\n",
      "loss: 1.034810  [25600/60000]\n",
      "loss: 1.073000  [32000/60000]\n",
      "loss: 1.127521  [38400/60000]\n",
      "loss: 1.079964  [44800/60000]\n",
      "loss: 1.113394  [51200/60000]\n",
      "loss: 1.058980  [57600/60000]\n",
      "Test Error: \n",
      " Accuracy: 64.6%, Avg loss: 1.086435 \n",
      "\n",
      "Epoch 11\n",
      "-------------------------------\n",
      "loss: 1.155954  [    0/60000]\n",
      "loss: 1.175841  [ 6400/60000]\n",
      "loss: 1.007338  [12800/60000]\n",
      "loss: 1.150905  [19200/60000]\n",
      "loss: 1.034810  [25600/60000]\n",
      "loss: 1.073000  [32000/60000]\n",
      "loss: 1.127521  [38400/60000]\n",
      "loss: 1.079964  [44800/60000]\n",
      "loss: 1.113394  [51200/60000]\n",
      "loss: 1.058980  [57600/60000]\n",
      "Test Error: \n",
      " Accuracy: 64.6%, Avg loss: 1.086435 \n",
      "\n",
      "Epoch 12\n",
      "-------------------------------\n",
      "loss: 1.155954  [    0/60000]\n",
      "loss: 1.175841  [ 6400/60000]\n",
      "loss: 1.007338  [12800/60000]\n",
      "loss: 1.150905  [19200/60000]\n",
      "loss: 1.034810  [25600/60000]\n",
      "loss: 1.073000  [32000/60000]\n",
      "loss: 1.127521  [38400/60000]\n",
      "loss: 1.079964  [44800/60000]\n",
      "loss: 1.113394  [51200/60000]\n",
      "loss: 1.058980  [57600/60000]\n",
      "Test Error: \n",
      " Accuracy: 64.6%, Avg loss: 1.086435 \n",
      "\n",
      "Epoch 13\n",
      "-------------------------------\n",
      "loss: 1.155954  [    0/60000]\n",
      "loss: 1.175841  [ 6400/60000]\n",
      "loss: 1.007338  [12800/60000]\n",
      "loss: 1.150905  [19200/60000]\n",
      "loss: 1.034810  [25600/60000]\n",
      "loss: 1.073000  [32000/60000]\n",
      "loss: 1.127521  [38400/60000]\n",
      "loss: 1.079964  [44800/60000]\n",
      "loss: 1.113394  [51200/60000]\n",
      "loss: 1.058980  [57600/60000]\n",
      "Test Error: \n",
      " Accuracy: 64.6%, Avg loss: 1.086435 \n",
      "\n",
      "Epoch 14\n",
      "-------------------------------\n",
      "loss: 1.155954  [    0/60000]\n",
      "loss: 1.175841  [ 6400/60000]\n",
      "loss: 1.007338  [12800/60000]\n",
      "loss: 1.150905  [19200/60000]\n",
      "loss: 1.034810  [25600/60000]\n",
      "loss: 1.073000  [32000/60000]\n",
      "loss: 1.127521  [38400/60000]\n",
      "loss: 1.079964  [44800/60000]\n",
      "loss: 1.113394  [51200/60000]\n",
      "loss: 1.058980  [57600/60000]\n",
      "Test Error: \n",
      " Accuracy: 64.6%, Avg loss: 1.086435 \n",
      "\n",
      "Epoch 15\n",
      "-------------------------------\n",
      "loss: 1.155954  [    0/60000]\n",
      "loss: 1.175841  [ 6400/60000]\n",
      "loss: 1.007338  [12800/60000]\n",
      "loss: 1.150905  [19200/60000]\n",
      "loss: 1.034810  [25600/60000]\n",
      "loss: 1.073000  [32000/60000]\n",
      "loss: 1.127521  [38400/60000]\n",
      "loss: 1.079964  [44800/60000]\n",
      "loss: 1.113394  [51200/60000]\n",
      "loss: 1.058980  [57600/60000]\n",
      "Test Error: \n",
      " Accuracy: 64.6%, Avg loss: 1.086435 \n",
      "\n",
      "Epoch 16\n",
      "-------------------------------\n",
      "loss: 1.155954  [    0/60000]\n",
      "loss: 1.175841  [ 6400/60000]\n",
      "loss: 1.007338  [12800/60000]\n",
      "loss: 1.150905  [19200/60000]\n",
      "loss: 1.034810  [25600/60000]\n",
      "loss: 1.073000  [32000/60000]\n",
      "loss: 1.127521  [38400/60000]\n",
      "loss: 1.079964  [44800/60000]\n",
      "loss: 1.113394  [51200/60000]\n",
      "loss: 1.058980  [57600/60000]\n",
      "Test Error: \n",
      " Accuracy: 64.6%, Avg loss: 1.086435 \n",
      "\n",
      "Epoch 17\n",
      "-------------------------------\n",
      "loss: 1.155954  [    0/60000]\n",
      "loss: 1.175841  [ 6400/60000]\n",
      "loss: 1.007338  [12800/60000]\n",
      "loss: 1.150905  [19200/60000]\n",
      "loss: 1.034810  [25600/60000]\n",
      "loss: 1.073000  [32000/60000]\n",
      "loss: 1.127521  [38400/60000]\n",
      "loss: 1.079964  [44800/60000]\n",
      "loss: 1.113394  [51200/60000]\n",
      "loss: 1.058980  [57600/60000]\n",
      "Test Error: \n",
      " Accuracy: 64.6%, Avg loss: 1.086435 \n",
      "\n",
      "Epoch 18\n",
      "-------------------------------\n",
      "loss: 1.155954  [    0/60000]\n",
      "loss: 1.175841  [ 6400/60000]\n",
      "loss: 1.007338  [12800/60000]\n",
      "loss: 1.150905  [19200/60000]\n",
      "loss: 1.034810  [25600/60000]\n",
      "loss: 1.073000  [32000/60000]\n",
      "loss: 1.127521  [38400/60000]\n",
      "loss: 1.079964  [44800/60000]\n",
      "loss: 1.113394  [51200/60000]\n",
      "loss: 1.058980  [57600/60000]\n",
      "Test Error: \n",
      " Accuracy: 64.6%, Avg loss: 1.086435 \n",
      "\n",
      "Epoch 19\n",
      "-------------------------------\n",
      "loss: 1.155954  [    0/60000]\n",
      "loss: 1.175841  [ 6400/60000]\n",
      "loss: 1.007338  [12800/60000]\n",
      "loss: 1.150905  [19200/60000]\n",
      "loss: 1.034810  [25600/60000]\n",
      "loss: 1.073000  [32000/60000]\n",
      "loss: 1.127521  [38400/60000]\n",
      "loss: 1.079964  [44800/60000]\n",
      "loss: 1.113394  [51200/60000]\n",
      "loss: 1.058980  [57600/60000]\n",
      "Test Error: \n",
      " Accuracy: 64.6%, Avg loss: 1.086435 \n",
      "\n",
      "Epoch 20\n",
      "-------------------------------\n",
      "loss: 1.155954  [    0/60000]\n",
      "loss: 1.175841  [ 6400/60000]\n",
      "loss: 1.007338  [12800/60000]\n",
      "loss: 1.150905  [19200/60000]\n",
      "loss: 1.034810  [25600/60000]\n",
      "loss: 1.073000  [32000/60000]\n",
      "loss: 1.127521  [38400/60000]\n",
      "loss: 1.079964  [44800/60000]\n",
      "loss: 1.113394  [51200/60000]\n",
      "loss: 1.058980  [57600/60000]\n",
      "Test Error: \n",
      " Accuracy: 64.6%, Avg loss: 1.086435 \n",
      "\n",
      "Done!\n"
     ]
    }
   ],
   "source": [
    "epochs = 20\n",
    "for t in range(epochs):\n",
    "    print(f\"Epoch {t+1}\\n-------------------------------\")\n",
    "    train(train_dataloader, model, loss_fn, optimizer)\n",
    "    test(test_dataloader, model, loss_fn)\n",
    "print(\"Done!\")"
   ]
  },
  {
   "cell_type": "markdown",
   "id": "416030f5",
   "metadata": {},
   "source": [
    "# Saving model"
   ]
  },
  {
   "cell_type": "code",
   "execution_count": 10,
   "id": "c1014f5b",
   "metadata": {},
   "outputs": [
    {
     "name": "stdout",
     "output_type": "stream",
     "text": [
      "Saved PyTorch Model State to model.pth\n"
     ]
    }
   ],
   "source": [
    "torch.save(model.state_dict(), \"model.pth\")\n",
    "print(\"Saved PyTorch Model State to model.pth\")"
   ]
  },
  {
   "cell_type": "code",
   "execution_count": 11,
   "id": "95e0e2a2",
   "metadata": {},
   "outputs": [
    {
     "data": {
      "text/plain": [
       "<All keys matched successfully>"
      ]
     },
     "execution_count": 11,
     "metadata": {},
     "output_type": "execute_result"
    }
   ],
   "source": [
    "model = NeuralNetwork()\n",
    "model.load_state_dict(torch.load(\"model.pth\"))"
   ]
  },
  {
   "cell_type": "markdown",
   "id": "3bf98137",
   "metadata": {},
   "source": [
    "# Model evaluation"
   ]
  },
  {
   "cell_type": "code",
   "execution_count": 12,
   "id": "be89bc2f",
   "metadata": {},
   "outputs": [
    {
     "name": "stdout",
     "output_type": "stream",
     "text": [
      "Predicted: \"Ankle boot\", Actual: \"Ankle boot\"\n"
     ]
    }
   ],
   "source": [
    "classes = [\n",
    "    \"T-shirt/top\",\n",
    "    \"Trouser\",\n",
    "    \"Pullover\",\n",
    "    \"Dress\",\n",
    "    \"Coat\",\n",
    "    \"Sandal\",\n",
    "    \"Shirt\",\n",
    "    \"Sneaker\",\n",
    "    \"Bag\",\n",
    "    \"Ankle boot\",\n",
    "]\n",
    "\n",
    "model.eval()\n",
    "x, y = test_data[0][0], test_data[0][1]\n",
    "with torch.no_grad():\n",
    "    pred = model(x)\n",
    "    predicted, actual = classes[pred[0].argmax(0)], classes[y]\n",
    "    print(f'Predicted: \"{predicted}\", Actual: \"{actual}\"')"
   ]
  },
  {
   "cell_type": "code",
   "execution_count": null,
   "id": "dec69bb4",
   "metadata": {},
   "outputs": [],
   "source": []
  }
 ],
 "metadata": {
  "kernelspec": {
   "display_name": "Python 3 (ipykernel)",
   "language": "python",
   "name": "python3"
  },
  "language_info": {
   "codemirror_mode": {
    "name": "ipython",
    "version": 3
   },
   "file_extension": ".py",
   "mimetype": "text/x-python",
   "name": "python",
   "nbconvert_exporter": "python",
   "pygments_lexer": "ipython3",
   "version": "3.10.6"
  },
  "toc": {
   "base_numbering": 1,
   "nav_menu": {},
   "number_sections": true,
   "sideBar": true,
   "skip_h1_title": false,
   "title_cell": "Table of Contents",
   "title_sidebar": "Contents",
   "toc_cell": false,
   "toc_position": {},
   "toc_section_display": true,
   "toc_window_display": true
  }
 },
 "nbformat": 4,
 "nbformat_minor": 5
}
