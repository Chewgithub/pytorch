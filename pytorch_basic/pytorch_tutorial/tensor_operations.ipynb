{
 "cells": [
  {
   "cell_type": "code",
   "execution_count": 2,
   "id": "dc921656",
   "metadata": {},
   "outputs": [],
   "source": [
    "import torch\n",
    "import numpy as np"
   ]
  },
  {
   "cell_type": "code",
   "execution_count": 3,
   "id": "557ed00d",
   "metadata": {},
   "outputs": [
    {
     "data": {
      "text/plain": [
       "'1.12.1+cpu'"
      ]
     },
     "execution_count": 3,
     "metadata": {},
     "output_type": "execute_result"
    }
   ],
   "source": [
    "torch.__version__"
   ]
  },
  {
   "cell_type": "code",
   "execution_count": 4,
   "id": "48d6dc63",
   "metadata": {},
   "outputs": [],
   "source": [
    "arr=np.arange(0,12)"
   ]
  },
  {
   "cell_type": "code",
   "execution_count": 8,
   "id": "342d5bda",
   "metadata": {},
   "outputs": [],
   "source": [
    "arr=arr.reshape(4,3)"
   ]
  },
  {
   "cell_type": "code",
   "execution_count": 16,
   "id": "46d6bae4",
   "metadata": {},
   "outputs": [],
   "source": [
    "torch_tensor=torch.Tensor(arr)"
   ]
  },
  {
   "cell_type": "code",
   "execution_count": 17,
   "id": "b8caf0ae",
   "metadata": {},
   "outputs": [
    {
     "data": {
      "text/plain": [
       "torch.float32"
      ]
     },
     "execution_count": 17,
     "metadata": {},
     "output_type": "execute_result"
    }
   ],
   "source": [
    "torch_tensor.dtype"
   ]
  },
  {
   "cell_type": "markdown",
   "id": "db441c7d",
   "metadata": {},
   "source": [
    "## Create tensor from scratch"
   ]
  },
  {
   "cell_type": "code",
   "execution_count": 19,
   "id": "744b2ac6",
   "metadata": {},
   "outputs": [
    {
     "data": {
      "text/plain": [
       "tensor([[0., 0.],\n",
       "        [0., 0.]])"
      ]
     },
     "execution_count": 19,
     "metadata": {},
     "output_type": "execute_result"
    }
   ],
   "source": [
    "torch.zeros(2,2)"
   ]
  },
  {
   "cell_type": "code",
   "execution_count": null,
   "id": "0b83bda2",
   "metadata": {},
   "outputs": [],
   "source": []
  }
 ],
 "metadata": {
  "kernelspec": {
   "display_name": "Python 3 (ipykernel)",
   "language": "python",
   "name": "python3"
  },
  "language_info": {
   "codemirror_mode": {
    "name": "ipython",
    "version": 3
   },
   "file_extension": ".py",
   "mimetype": "text/x-python",
   "name": "python",
   "nbconvert_exporter": "python",
   "pygments_lexer": "ipython3",
   "version": "3.8.12"
  },
  "toc": {
   "base_numbering": 1,
   "nav_menu": {},
   "number_sections": true,
   "sideBar": true,
   "skip_h1_title": false,
   "title_cell": "Table of Contents",
   "title_sidebar": "Contents",
   "toc_cell": false,
   "toc_position": {},
   "toc_section_display": true,
   "toc_window_display": false
  }
 },
 "nbformat": 4,
 "nbformat_minor": 5
}
